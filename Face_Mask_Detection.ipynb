{
 "cells": [
  {
   "cell_type": "markdown",
   "metadata": {
    "id": "xu9hFAzrDVAX"
   },
   "source": [
    "# ```FACE MASK DETECTION```"
   ]
  },
  {
   "cell_type": "markdown",
   "metadata": {
    "id": "YH7XmPRcDVAc"
   },
   "source": [
    "## Table of contents\n",
    "\n",
    "0. [Face Recognition at the gate](#recogface)\n",
    "0. [Number Plate Recognition](#numplaterecog)\n",
    "1. [All the imports](#import)\n",
    "2. [Send An Email to the Coordinator](#email)\n",
    "3. [preprocess large amount of images in a folder](#preprocess)\n",
    "4. [Split the data into train and test](#split)\n",
    "5. [Confusion Matrix Score](#cms)\n",
    "\n",
    "6. Models\n",
    "   - [Support Vector Classifier](#sv)\n",
    "   - [Decision Tree Classifier](#dt)\n",
    "   - [Random Forest Classifier](#rf)\n",
    "   - [Naive Bayes Classifier](#nb)\n",
    "   - [Logistic regression Classifier](#lr)\n",
    "   - [K-Nearest Neighbors](#knn)\n",
    "\n",
    "7. [Load From DIsk](#loadfromdisk)  \n",
    "8. [Webcam](#webcam)\n"
   ]
  },
  {
   "cell_type": "markdown",
   "metadata": {
    "id": "hxCtpqKzDVAe"
   },
   "source": [
    "### <a id=\"import\" ></a> All the imports\n"
   ]
  },
  {
   "cell_type": "code",
   "execution_count": 1,
   "metadata": {
    "colab": {
     "base_uri": "https://localhost:8080/",
     "height": 391
    },
    "executionInfo": {
     "elapsed": 831,
     "status": "error",
     "timestamp": 1653682874433,
     "user": {
      "displayName": "giorgia barboni",
      "userId": "17642290964512417364"
     },
     "user_tz": -120
    },
    "id": "drTScBNKDVAf",
    "outputId": "4f1aa07d-584f-4ebd-fa2c-b84262bd3ce5"
   },
   "outputs": [],
   "source": [
    "import numpy as np, cv2, os, yagmail\n",
    "import matplotlib.pyplot as plt, seaborn as sns\n",
    "import face_recognition\n",
    "from datetime import datetime, timedelta\n",
    "from scipy.spatial import distance\n",
    "import pytesseract, imutils\n",
    "import csv\n",
    "\n",
    "from sklearn import tree\n",
    "from sklearn.metrics import confusion_matrix, classification_report\n",
    "from sklearn.svm import SVC\n",
    "from sklearn.metrics import accuracy_score\n",
    "from sklearn.model_selection import train_test_split\n",
    "\n",
    "# let:\n",
    "join = os.path.join\n",
    "listdir = os.listdir\n",
    "scale=(100,100)"
   ]
  },
  {
   "cell_type": "markdown",
   "metadata": {
    "id": "uyWrZIlwDVAg"
   },
   "source": [
    "### <a id=\"email\" ></a> Send an Email\n"
   ]
  },
  {
   "cell_type": "code",
   "execution_count": 2,
   "metadata": {
    "id": "uj7fgDbaDVAg"
   },
   "outputs": [],
   "source": [
    "#!pip3 install yagmail[all]\n",
    "\n",
    "sender_password     = input(\"Type in your password here\")"
   ]
  },
  {
   "cell_type": "code",
   "execution_count": 3,
   "metadata": {
    "id": "fLeTi6lqDVAh"
   },
   "outputs": [],
   "source": [
    "def date_and_time():        # This *datetime.now()* is necessary to get the current updated time\n",
    "    now = datetime.now()\n",
    "    date = now.strftime(\"%Y-%m-%d\")  # Month is small m\n",
    "    time = now.strftime('%H:%M:%S')  # Minute is capital M\n",
    "    return  date, time"
   ]
  },
  {
   "cell_type": "code",
   "execution_count": 39,
   "metadata": {
    "id": "WeuO5SqnDVAi",
    "outputId": "aef78687-077a-48b5-d27a-0dbf61c9cc0b"
   },
   "outputs": [
    {
     "name": "stdout",
     "output_type": "stream",
     "text": [
      "\n",
      "Email sent successfuly Date: 2022-06-20 Time: 10:37:10\n",
      "\n"
     ]
    },
    {
     "data": {
      "text/plain": [
       "True"
      ]
     },
     "execution_count": 39,
     "metadata": {},
     "output_type": "execute_result"
    }
   ],
   "source": [
    "\n",
    "#saves the image as NotWearingMaskAlert.jpg in the AI LAB Workplace Monitoring directory.  \n",
    "save_img_location = r\".\\AI LAB Workplace Monitoring\\NotWearingMaskAlert.jpg\"\n",
    "\n",
    "sender_mail_addr = \"youremail@gmail.com\"\n",
    "receiver_mail_addr = [\"youremail@gmail.com\"] #can be a list of emails...\n",
    "subject = \"Worker not wearing a mask; Date {}, Time: {}\"\n",
    "contents = \"There is high probability that a worker is not wearing a mask. Take action!\"\n",
    "\n",
    "def sendEmailWithAttachment(frame,\n",
    "                        save_img_location   =   save_img_location, \n",
    "                        sender_mail_addr    =   sender_mail_addr, \n",
    "                        sender_password     =   sender_password,\n",
    "                        receiver_mail_addr  =   receiver_mail_addr,\n",
    "                        subject             =   subject,\n",
    "                        contents            =   contents\n",
    "                                ):\n",
    "\n",
    "        cv2.imwrite(save_img_location, frame)\n",
    "        sent = False\n",
    "        try:\n",
    "                yag = yagmail.SMTP(sender_mail_addr, sender_password)\n",
    "\n",
    "                yag.send(to= receiver_mail_addr,         \n",
    "                        subject = subject,\n",
    "                        contents = contents,\n",
    "                        attachments=[save_img_location]\n",
    "                        )\n",
    "                print(f\"\\nEmail sent successfuly Date: {date} Time: {time}\\n\")\n",
    "                sent = True\n",
    "        except Exception as e: \n",
    "                print(f\"\\nError in sending the mail. Here is the error message: \\n\\n{e} \")\n",
    "                \n",
    "        return sent\n",
    "\n",
    "\n",
    "frame = cv2.imread(r\".\\AI LAB Workplace Monitoring\\Workers Photos Use During Entry At Gate\\train\\biden\\biden2.jpg\")\n",
    "\n",
    "date, time = date_and_time()\n",
    "sendEmailWithAttachment( frame, \n",
    "                        subject= subject.format(date, time),\n",
    "                        sender_password=sender_password, \n",
    "                        receiver_mail_addr=receiver_mail_addr\n",
    "                        )"
   ]
  },
  {
   "cell_type": "markdown",
   "metadata": {
    "id": "0J7A0LY1DVAl"
   },
   "source": [
    "### <a id=\"recogface\" ></a> Face Recognition at the gate"
   ]
  },
  {
   "cell_type": "code",
   "execution_count": 5,
   "metadata": {
    "id": "GZ2L5JQZDVAl"
   },
   "outputs": [],
   "source": [
    "imagesFolder =  r\".\\AI LAB Workplace Monitoring\\Workers Photos Use During Entry At Gate\\test\"\n",
    "csv_file = r\".\\AI LAB Workplace Monitoring\\Register_01.csv\"\n",
    "    "
   ]
  },
  {
   "cell_type": "code",
   "execution_count": 6,
   "metadata": {
    "id": "wAXFPISnDVAm"
   },
   "outputs": [],
   "source": [
    "\n",
    "# Work start at 8:00 and end at 18:00. But a worker can be registered if he comes even early, from 7:00\n",
    "# If a worker arrives untill at 8:30, he's not late according to the company's rules. \n",
    "# Elif he arrives from 8:30 to 10, he is late and a warning is sent. \n",
    "# Else, he is not registered and thus won't be paid the wage for that particular day.\n",
    "\n",
    "def markAttendance(name, csv_file):\n",
    "    \n",
    "    late = False\n",
    "    now = datetime.now()  \n",
    "    register_hr = ( now.hour >= 7 and now.hour <= 10 )\n",
    "    \n",
    "    if register_hr:\n",
    "        with open(csv_file, 'r+') as f:  #both read and write\n",
    "            register = f.readlines()\n",
    "\n",
    "            nameList = []\n",
    "            \n",
    "            # nameList =[ [line.split(',')[0], line.split(',')[1] ] for line in register if not line in [',,\\n', '\\n'] ]\n",
    "            for line in register:\n",
    "                if not line in [',,\\n', '\\n']:\n",
    "                    entry = line.split(',')\n",
    "                    nameList.append([entry[0], entry[1]])\n",
    "                    \n",
    "            date, time = date_and_time()\n",
    "            if [name, date] not in nameList and register_hr:\n",
    "                f.writelines(f\"\\n{name},{date},{time}\")\n",
    "                print(f\"{name} registered successfuly at {time}\")\n",
    "                \n",
    "                # If the worker is late (comes after 08:30), send a warning to the Director\n",
    "                # But if a worker arrives after 10:00, he is too late and cannot be registered\n",
    "                now = datetime.now()  \n",
    "                hr = now.hour  \n",
    "                if (hr > 8 and hr <= 10) or (hr == 8 and now.minute > 30): late = True\n",
    "            else:\n",
    "                print(f\"{name} is already registered for today {date} at {entry[-1]}\")\n",
    "            \n",
    "    else:\n",
    "        late = True\n",
    "        print(f\"It is outside registration hour, mr. {name}. So we cannot register you for today. Registration is allowed only between 7:00 to 10:00\")\n",
    "                \n",
    "    return late"
   ]
  },
  {
   "cell_type": "code",
   "execution_count": 7,
   "metadata": {
    "id": "6TEyJw1DDVAm"
   },
   "outputs": [],
   "source": [
    "\n",
    "def findEncodings(imagesFolder = imagesFolder):\n",
    "        \n",
    "    workersNames = []\n",
    "    encodeListKnown = []\n",
    "    \n",
    "    for cl in os.listdir(imagesFolder):\n",
    "        if cl.endswith(\".ini\"):\n",
    "            continue\n",
    "        name = os.path.splitext(cl)[0]  # split and leave out the extension part.\n",
    "        curImg = cv2.imread(os.path.join(imagesFolder ,cl), cv2.COLOR_BGR2RGB) #read in rgb mode directly without cvtColor\n",
    "        #curImg = cv2.cvtColor(curImg, cv2.COLOR_BGR2RGB)\n",
    "        \n",
    "        encode = face_recognition.face_encodings(curImg)\n",
    "        \n",
    "        if not len(encode) > 1:    # If there are more than 1 face in the image, then skip it \n",
    "            workersNames.append(name)\n",
    "            encodeListKnown.append(encode[0])\n",
    "    print(workersNames)\n",
    "    print(\"Encoding Complete\")\n",
    "    \n",
    "    return  workersNames, encodeListKnown\n",
    "\n",
    "#findEncodings(imagesFolder)\n"
   ]
  },
  {
   "cell_type": "code",
   "execution_count": 40,
   "metadata": {
    "id": "2HNfUq21DVAn",
    "outputId": "39676f46-510f-44d9-ff30-103ee189d638"
   },
   "outputs": [
    {
     "name": "stdout",
     "output_type": "stream",
     "text": [
      "['alex_lacamoire1', 'johnsnow_test1', 'obama1', 'Tim_CV', 'biden', 'Rose', 'GiorgiaBarboni', 'EliseBaturone', 'saur', 'Yusupha']\n",
      "Encoding Complete\n",
      "YUSUPHA is already registered for today 2022-06-20 at 09:25:32\n",
      "YUSUPHA is already registered for today 2022-06-20 at 09:25:32\n",
      "YUSUPHA is already registered for today 2022-06-20 at 09:25:32\n",
      "YUSUPHA is already registered for today 2022-06-20 at 09:25:32\n",
      "YUSUPHA is already registered for today 2022-06-20 at 09:25:32\n",
      "YUSUPHA is already registered for today 2022-06-20 at 09:25:32\n",
      "SAUR registered successfuly at 10:38:48\n",
      "\n",
      "Email sent successfuly Date: 2022-06-20 Time: 10:37:10\n",
      "\n",
      "SAUR is already registered for today 2022-06-20 at 10:38:48\n",
      "SAUR is already registered for today 2022-06-20 at 10:38:48\n",
      "YUSUPHA is already registered for today 2022-06-20 at 10:38:48\n",
      "YUSUPHA is already registered for today 2022-06-20 at 10:38:48\n",
      "YUSUPHA is already registered for today 2022-06-20 at 10:38:48\n",
      "YUSUPHA is already registered for today 2022-06-20 at 10:38:48\n",
      "YUSUPHA is already registered for today 2022-06-20 at 10:38:48\n",
      "YUSUPHA is already registered for today 2022-06-20 at 10:38:48\n",
      "YUSUPHA is already registered for today 2022-06-20 at 10:38:48\n",
      "YUSUPHA is already registered for today 2022-06-20 at 10:38:48\n",
      "YUSUPHA is already registered for today 2022-06-20 at 10:38:48\n",
      "YUSUPHA is already registered for today 2022-06-20 at 10:38:48\n",
      "YUSUPHA is already registered for today 2022-06-20 at 10:38:48\n",
      "YUSUPHA is already registered for today 2022-06-20 at 10:38:48\n",
      "YUSUPHA is already registered for today 2022-06-20 at 10:38:48\n",
      "YUSUPHA is already registered for today 2022-06-20 at 10:38:48\n",
      "YUSUPHA is already registered for today 2022-06-20 at 10:38:48\n",
      "YUSUPHA is already registered for today 2022-06-20 at 10:38:48\n",
      "YUSUPHA is already registered for today 2022-06-20 at 10:38:48\n",
      "YUSUPHA is already registered for today 2022-06-20 at 10:38:48\n",
      "YUSUPHA is already registered for today 2022-06-20 at 10:38:48\n",
      "YUSUPHA is already registered for today 2022-06-20 at 10:38:48\n",
      "YUSUPHA is already registered for today 2022-06-20 at 10:38:48\n",
      "YUSUPHA is already registered for today 2022-06-20 at 10:38:48\n",
      "YUSUPHA is already registered for today 2022-06-20 at 10:38:48\n",
      "YUSUPHA is already registered for today 2022-06-20 at 10:38:48\n",
      "YUSUPHA is already registered for today 2022-06-20 at 10:38:48\n",
      "YUSUPHA is already registered for today 2022-06-20 at 10:38:48\n",
      "YUSUPHA is already registered for today 2022-06-20 at 10:38:48\n",
      "YUSUPHA is already registered for today 2022-06-20 at 10:38:48\n",
      "YUSUPHA is already registered for today 2022-06-20 at 10:38:48\n",
      "CPU times: total: 1min 33s\n",
      "Wall time: 1min 39s\n"
     ]
    }
   ],
   "source": [
    "\n",
    "def faceDetectionAtGate():\n",
    "    \n",
    "    workersNames, encodeListKnown = findEncodings(imagesFolder)\n",
    "    \n",
    "    cap = cv2.VideoCapture(0)\n",
    "    try:\n",
    "        while cap.isOpened():\n",
    "            _, img = cap.read()\n",
    "                    \n",
    "            facesCurFrame = face_recognition.face_locations(img)\n",
    "            encodeCurFrame = face_recognition.face_encodings(img, facesCurFrame)\n",
    "            \n",
    "            for encodeFace, faceLoc in zip(encodeCurFrame, facesCurFrame):\n",
    "                matches = face_recognition.compare_faces(encodeListKnown, encodeFace) #return True/False\n",
    "                faceDis = face_recognition.face_distance(encodeListKnown, encodeFace) #return distance\n",
    "                \n",
    "                name = \"stranger\"\n",
    "                color = (0,0,255)\n",
    "                late = 0    # Stranger at the gate = 0\n",
    "                \n",
    "                matchIndex = np.argmin(faceDis)\n",
    "                if matches[matchIndex]:\n",
    "                    name = workersNames[matchIndex].upper()\n",
    "                    color = (255,0,0)\n",
    "                    \n",
    "                    late = markAttendance(name, csv_file)\n",
    "                    late = 1 if late else 2 # Worker is late = 1   \n",
    "                     \n",
    "                    subject = \"{} is late Date: {}, Time: {}\"\n",
    "                    contents = f\"{name} has just arrived\"              \n",
    "                    \n",
    "                else:\n",
    "                    subject=\"A {} at the gate Date: {}, Time: {}\" \n",
    "                    contents = f\"There is a {name} waiting at the gate. See if you prefer opening the gate for him/her\"\n",
    "                    \n",
    "                top, right, bottom, left = faceLoc\n",
    "                cv2.rectangle(img, (right, top), (left, bottom), color, 2)                \n",
    "                cv2.putText(img, name, (left+5, bottom+30), cv2.FONT_HERSHEY_COMPLEX, 1, color, 2)\n",
    "                \n",
    "                # If a person visits after working hours, perhaps, he is a robber\n",
    "                now = datetime.now()\n",
    "                working_hrs = ( now.hour >= 7 and now.hour <= 19 )\n",
    "                if not working_hrs:\n",
    "                    subject=\"{} at the gate outside working hours Date: {}, Time: {}\" \n",
    "                    contents = f\"There is {name} at the gate. Perhaps, he is a robber, etc. If necessary, alert the police\"\n",
    "                \n",
    "                # send an alert if the person is late or a stranger at the gate\n",
    "                if late != 2 or not working_hrs:\n",
    "                    date, time = date_and_time()\n",
    "                    sendEmailWithAttachment(img, \n",
    "                                            subject=subject.format(name,date, time), contents=contents)\n",
    "                    \n",
    "            cv2.imshow(\"WebCam Image\", img)\n",
    "            if cv2.waitKey(1) != -1: break\n",
    "    finally:\n",
    "        cap.release()\n",
    "        cv2.destroyAllWindows()\n",
    "        \n",
    "if __name__ == \"__main__\":\n",
    "    %time faceDetectionAtGate()   # Just forget about the time... just how long the func runs\n"
   ]
  },
  {
   "cell_type": "markdown",
   "metadata": {
    "id": "S2AVtby2DVAo"
   },
   "source": [
    "### <a id=\"numplaterecog\"></a> Number plate recognition and extraction.\n",
    "[Link to pytesseract](https://pypi.org/project/pytesseract/)\n"
   ]
  },
  {
   "cell_type": "code",
   "execution_count": 9,
   "metadata": {
    "id": "Le_8nSSfDVAo"
   },
   "outputs": [],
   "source": [
    "# This is very important. Search on google if you don't understand it.\n",
    "pytesseract.pytesseract.tesseract_cmd = r\"C:\\Program Files\\Tesseract-OCR\\tesseract.exe\""
   ]
  },
  {
   "cell_type": "code",
   "execution_count": 10,
   "metadata": {},
   "outputs": [],
   "source": [
    "filename = r\".\\AI LAB Workplace Monitoring\\Cars\\image1.jpg\"\n",
    "filename = r\".\\AI LAB Workplace Monitoring\\Cars\\image4.jpg\"\n",
    "\n",
    "plate_date_file = r\".\\AI LAB Workplace Monitoring\\plate_date.csv\" \n",
    "plate_count_file = r\".\\AI LAB Workplace Monitoring\\plate_count.csv\""
   ]
  },
  {
   "cell_type": "code",
   "execution_count": 41,
   "metadata": {
    "id": "xvybRq2_DVAo",
    "outputId": "6f0d38dc-fb25-41b9-f32d-9ac33bb75bf7"
   },
   "outputs": [
    {
     "name": "stdout",
     "output_type": "stream",
     "text": [
      "Number is : HS982 FKL\n",
      "\n"
     ]
    }
   ],
   "source": [
    "\n",
    "img = cv2.imread(filename)\n",
    "#img = cv2.resize(img, (500,500))\n",
    "gray = cv2.cvtColor(img, cv2.COLOR_BGR2GRAY)\n",
    "\n",
    "# Apply filter and find edges for localization\n",
    "bfilter = cv2.bilateralFilter(gray, d=11, sigmaColor=17, sigmaSpace=17) #noise reduction\n",
    "canny_image1 = cv2.Canny(bfilter, threshold1=100, threshold2=400)           # Edged detection\n",
    "\n",
    "# This sets the thresholds automatically\n",
    "# canny_image2 = imutils.auto_canny(bfilter)\n",
    "\n",
    "#Find Contours and apply mask. Now after detecting the edges of objects in the image, we would like to find the major contours in the processed image. \n",
    "keypoints = cv2.findContours(canny_image1, cv2.RETR_LIST, cv2.CHAIN_APPROX_SIMPLE) \n",
    "\n",
    "contours = imutils.grab_contours(keypoints)\n",
    "\n",
    "# The above code would give us all the contours, which would include very small and insignificant ones as well so we would want to get rid of those and would want only the major contours. So we would loop over all the contours, and find out which contour is fit to be a license plate.\n",
    "contours=sorted(contours, key = cv2.contourArea, reverse = True)[:30]\n",
    "Number_Plate_Contour = 0\n",
    "\n",
    "#Now, we would like to find the contour that is rectangular in shape, and we would be using the function cv2.approxPolyDP(current contour, maximum distance from contour to approximated contour, True) for this, which will approximate a polygon (in our case, a rectangle). The contour closest to being a license plate would be stored in the variable, “Number_Plate_Contour”.\n",
    "for cont in contours:        \n",
    "    #perimeter = cv2.arcLength(cont, True)\n",
    "    approx = cv2.approxPolyDP(cont, epsilon=10, closed=True) \n",
    "    if len(approx) == 4:  \n",
    "            Number_Plate_Contour = approx \n",
    "            # new_image = cv2.drawContours(img,[Number_Plate_Contour],0,255,2)\n",
    "            # cv2.imshow(\"Number Plate 1\", cv2.cvtColor( new_image, cv2.COLOR_BGR2RGB) )\n",
    "            # cv2.waitKey(1000)\n",
    "            # cv2.destroyAllWindows()\n",
    "            break\n",
    "\n",
    "#print(Number_Plate_Contour)\n",
    "\n",
    "mask = np.zeros(gray.shape,np.uint8)\n",
    "new_image = cv2.drawContours(mask,[Number_Plate_Contour],contourIdx=0,color=255,thickness=-1,)\n",
    "new_image =cv2.bitwise_and(img,img,mask=mask)\n",
    "cv2.imshow(\"Masked\", cv2.cvtColor( new_image, cv2.COLOR_BGR2RGB) )\n",
    "\n",
    "(x,y) = np.where(mask==255)\n",
    "(x1, y1) = (np.min(x), np.min(y))\n",
    "(x2, y2) = (np.max(x), np.max(y))\n",
    "cropped_image = gray[x1:x2+1, y1:y2+1]\n",
    "\n",
    "text = pytesseract.image_to_string(cropped_image)\n",
    "print(\"Number is :\", text)\n",
    "\n",
    "resized_image = cv2.resize(cropped_image, (500,500))\n",
    "cv2.imshow(\"croped Image\", cv2.cvtColor(resized_image, cv2.COLOR_BGR2RGB))\n",
    "\n",
    "# cv2.drawContours(canny_image2, contours, -1, (0,255,0),5)\n",
    "# cv2.imshow(\"Number Plate 1\",canny_image2)\n",
    "\n",
    "\n",
    "cv2.waitKey(0)\n",
    "cv2.destroyAllWindows()"
   ]
  },
  {
   "cell_type": "code",
   "execution_count": 12,
   "metadata": {},
   "outputs": [],
   "source": [
    "def register_plates(plate_date_file, plate_count_file, text=text):\n",
    "    with open(plate_date_file, 'a') as f:  #append mode to write at the end of the file\n",
    "        date, time = date_and_time()\n",
    "        f.writelines(f\"{text},{date},{time}\\n\")\n",
    "\n",
    "    fchanged = False\n",
    "    with open(plate_count_file, 'r+') as f:  #mode to read and write \n",
    "        plates = f.readlines()\n",
    "        plateList = []\n",
    "        # We create a list out of the file to find our plate and modify its count\n",
    "        for line in plates:\n",
    "            if not line in [',,\\n', '\\n']:\n",
    "                entry = line.split(',')\n",
    "                if '\\n' in entry[1]: #otherwise the '\\n' add up each time we call the function\n",
    "                    entry[1] = entry[1][:-1]\n",
    "                plateList.append([entry[0], entry[1]])\n",
    "        #we look for our plate\n",
    "        for i in range(len(plateList)) :\n",
    "            (pnumb, count) = plateList[i]\n",
    "            now = datetime.now()\n",
    "            if pnumb == text: # it has to be within working hours for it to count\n",
    "                fchanged = True\n",
    "                if (now.hour >= 7 and now.hour <= 10):\n",
    "                    count = str(int(count)+1) #we modify its count\n",
    "                    plateList[i] = [pnumb, count]\n",
    "    if fchanged:#if we had found our plate and modified our list we must input our list back into the file\n",
    "        with open(plate_count_file, 'w') as f:  #write mode with pointer back at the start of the file   \n",
    "            write = csv.writer(f) \n",
    "            write.writerows(plateList)\n",
    "    #we haven't found our plate \n",
    "    if not fchanged and (now.hour >= 7 and now.hour <= 10): # the plate has never been saved so we append it and set the count to 1 \n",
    "        with open(plate_count_file, 'a') as f: #append mode to write at the end of the file\n",
    "            f.writelines(f\"{text},1\\n\")\n",
    "    return 1\n"
   ]
  },
  {
   "cell_type": "code",
   "execution_count": 13,
   "metadata": {},
   "outputs": [],
   "source": [
    "def reinitialise(plate_date_file, plate_count_file):\n",
    "        #reinitialasation of the files if needed\n",
    "        with open(plate_date_file, 'w') as f: #\n",
    "                #writting headers\n",
    "                n = \"NUMBER PLATE\"\n",
    "                d = \"DATE\"\n",
    "                t = \"TIME\"\n",
    "                f.writelines(f\"{n},{d},{t}\\n\")\n",
    "\n",
    "        with open(plate_count_file, 'w') as f: #\n",
    "                #writting headers\n",
    "                n = \"NUMBER PLATE\"\n",
    "                c = \"COUNT\"\n",
    "                f.writelines(f\"{n},{c}\\n\")\n",
    "        return 1"
   ]
  },
  {
   "cell_type": "code",
   "execution_count": 19,
   "metadata": {},
   "outputs": [
    {
     "data": {
      "text/plain": [
       "1"
      ]
     },
     "execution_count": 19,
     "metadata": {},
     "output_type": "execute_result"
    }
   ],
   "source": [
    "# reinitialise\n",
    "reinitialise(plate_date_file, plate_count_file)\n"
   ]
  },
  {
   "cell_type": "code",
   "execution_count": 45,
   "metadata": {},
   "outputs": [
    {
     "data": {
      "text/plain": [
       "1"
      ]
     },
     "execution_count": 45,
     "metadata": {},
     "output_type": "execute_result"
    }
   ],
   "source": [
    "register_plates(plate_date_file, plate_count_file, text[:-1])\n"
   ]
  },
  {
   "cell_type": "markdown",
   "metadata": {},
   "source": [
    "###  <a name=\"Delete\" ></a> This is about calculating the distance b/t faces. \n",
    "\n",
    "Detecting social distancing violations.\n",
    "This can be done by iterating over the coordinates of faces and calculating the distance for each possible pair, if the distance for a particular pair is less than MIN_DISTANCE then the bounding boxes for those faces are colored red. MIN_DISTANCE must be manually initialized in such a way that it corresponds to the minimum allowable distance in real life (eg. 6ft)."
   ]
  },
  {
   "cell_type": "markdown",
   "metadata": {},
   "source": [
    "#### This is not used anymore. We used another function called [checkDistance()](#distcheckfunc)"
   ]
  },
  {
   "cell_type": "code",
   "execution_count": null,
   "metadata": {},
   "outputs": [],
   "source": [
    "\n",
    "MIN_DISTANCE = 130\n",
    "\n",
    "def cal_Min_Dist_Between_Faces(faces):\n",
    "    \n",
    "    def minDist(face1, face2):\n",
    "        \n",
    "        top1, right1, bottom1, left1 = face1\n",
    "        top2, right2, bottom2, left2 = face2\n",
    "        points1 = [(left1,top1), (left1,bottom1), (right1,top1), (right1,bottom1)]\n",
    "        points2 = [(left2,top2), (left2,bottom2), (right2,top2), (right2,bottom2)]\n",
    "        \n",
    "        #The inner loop calculates the minimum distance between 1 point in face1 and all points in face2\n",
    "        #The outer loop repeats the above statement for all points in location1. Just 2 for loops\n",
    "        dist = min( [ min( [distance.euclidean( points1[i], points2[j]) for j in range(4)] ) for i in range(4) ] )\n",
    "        \n",
    "        violate = True if dist < MIN_DISTANCE else False\n",
    "        return violate\n",
    "    \n",
    "    \n",
    "    #If there is any distance violation in a frame, even between only 2 faces out of many, violate is True. \n",
    "    l = len(faces)\n",
    "    violate = any([ any([minDist(faces[i], faces[j]) for j in range(i+1, l)]) for i in range(l-1)])\n",
    "\n",
    "    return violate"
   ]
  },
  {
   "cell_type": "markdown",
   "metadata": {},
   "source": [
    "#### <a id=\"distcheckfunc\"></a> The used distance checking functions."
   ]
  },
  {
   "cell_type": "code",
   "execution_count": 20,
   "metadata": {},
   "outputs": [
    {
     "name": "stdout",
     "output_type": "stream",
     "text": [
      "['alex_lacamoire1', 'johnsnow_test1', 'obama1', 'Tim_CV', 'biden', 'Rose', 'GiorgiaBarboni', 'EliseBaturone', 'saur', 'Yusupha']\n",
      "Encoding Complete\n"
     ]
    }
   ],
   "source": [
    "#Employees encodings\n",
    "classNames, encodeListKnown = findEncodings(imagesFolder)\n",
    "\n",
    "#Return employees names if identified, else none\n",
    "def identify(faceEnc, encodeListKnown = encodeListKnown, classNames = classNames):\n",
    "    matches = face_recognition.compare_faces(encodeListKnown, faceEnc) #True/False\n",
    "    faceDis = face_recognition.face_distance(encodeListKnown, faceEnc) #Distance\n",
    "    #associate face to name if match with employee face at smallest distance is True\n",
    "    matchIndex = np.argmin(faceDis) \n",
    "    if matches[matchIndex]:\n",
    "        return classNames[matchIndex].upper()\n",
    "    return None\n"
   ]
  },
  {
   "cell_type": "markdown",
   "metadata": {},
   "source": [
    "\n",
    "$$  \\frac{distPixels}{dist} = \\frac{faceWidthPixels}{faceWidthAvg}$$"
   ]
  },
  {
   "cell_type": "code",
   "execution_count": 21,
   "metadata": {},
   "outputs": [],
   "source": [
    "def compute_focalLength (faceWidthPixels, faceDist, faceWidthAvg):\n",
    "    return (faceWidthPixels* faceDist) / faceWidthAvg\n",
    "\n",
    "def compute_distToCamera(faceWidthAvg, faceWidthPixels, focalLength):\n",
    "    return (faceWidthAvg * focalLength) / faceWidthPixels\n"
   ]
  },
  {
   "cell_type": "code",
   "execution_count": 22,
   "metadata": {},
   "outputs": [],
   "source": [
    "def distPixels_to_dist(distPixels,faceWidthPixels, faceWidthAvg):\n",
    "    # distPixels : faceWidthPixels = dist : faceWidthAvg\n",
    "    return (distPixels * faceWidthAvg) / faceWidthPixels\n"
   ]
  },
  {
   "cell_type": "code",
   "execution_count": 46,
   "metadata": {},
   "outputs": [],
   "source": [
    "# Calibrate camera depth on your own face; keep your face at 1 armlength distance and press a key to register face width in pixels.\n",
    "def compute_faceWidthPixels():\n",
    "    cap = cv2.VideoCapture(0)\n",
    "    while True:\n",
    "            _, img = cap.read()\n",
    "            faceLoc = face_recognition.face_locations(img)\n",
    "            if len(faceLoc) > 0:\n",
    "                top, right, bottom, left = faceLoc[0]\n",
    "                faceWidthPixels = right - left\n",
    "                cv2.rectangle(img, (right, top), (left, bottom), (0,255,0), 2)   \n",
    "                cv2.putText(img, f\"width: {faceWidthPixels} pixels\", (left-5, bottom+30), cv2.FONT_HERSHEY_COMPLEX, 1, (0,255,0), 2)\n",
    "                cv2.imshow(\"WebCam Image\", img)\n",
    "            if cv2.waitKey(1) != -1: \n",
    "                 break\n",
    "    cap.release() \n",
    "    cv2.destroyAllWindows()   \n",
    "    return faceWidthPixels\n",
    "\n",
    "faceWidthPixels = compute_faceWidthPixels()\n"
   ]
  },
  {
   "cell_type": "code",
   "execution_count": 24,
   "metadata": {},
   "outputs": [],
   "source": [
    "\n",
    "faceDist= 30.0                              #in cm\n",
    "faceWidthAvg= 15.0 \n",
    "focalLength = compute_focalLength (faceWidthPixels, faceDist, faceWidthAvg)\n",
    "minDist = 2\n",
    "\n",
    "def checkDistance(img, faceLoc, namesViolPrev, unidentifiedNumPrev, dateTimeLastSent, faceWidth = faceWidthAvg, focalLength = focalLength, minDist = minDist):\n",
    "    namesViol = set()\n",
    "    unidentifiedNum = 0\n",
    "\n",
    "    num_faces = len(faceLoc)\n",
    "    \n",
    "    viol = False\n",
    "    \n",
    "    if num_faces > 1:\n",
    "\n",
    "        #face encodings of faces in the frame for face recognition\n",
    "        faceEnc = face_recognition.face_encodings(img, faceLoc)\n",
    "\n",
    "        #compute face centers \n",
    "        def center(top, right, bottom, left):\n",
    "            return (left-right, top-bottom)\n",
    "\n",
    "        #iterate over all pairs of faces\n",
    "        for i in range(len(faceLoc)-1):\n",
    "            for j in range(i+1, len(faceLoc)):\n",
    "                \n",
    "                #face location coordinates (top, right, bottom, left of rectangle bounding face)\n",
    "                t1, r1, b1, l1 = faceLoc[i]\n",
    "                t2, r2, b2, l2 = faceLoc[j]\n",
    "                #center of bounding rectangles\n",
    "                c1 = center(t1, r1, b1, l1)\n",
    "                c2 = center(t2, r2, b2, l2)\n",
    "                #face widths as bounding rectangles width\n",
    "                faceWidthPixels1 = r1-l1\n",
    "                faceWidthPixels2 = r2-l2\n",
    "                #depth = distance from camera in cm\n",
    "                dist_to_camera1 = compute_distToCamera(faceWidth,faceWidthPixels1,focalLength)\n",
    "                dist_to_camera2 = compute_distToCamera(faceWidth,faceWidthPixels2,focalLength)\n",
    "                # vertical distance = depth difference \n",
    "                dist_faces_vert = abs(dist_to_camera1-dist_to_camera2)\n",
    "                # horizontal distance in pixels = difference of centers' axis 0 coordinates\n",
    "                dist_faces_horizPixels = abs(c1[0] - c2[0])\n",
    "                #horizontal distance in cm\n",
    "                dist_faces_horiz = distPixels_to_dist(dist_faces_horizPixels,faceWidthPixels, faceWidth) \n",
    "                #faces distance = L-2 norm of sum of positive-oriented vectors of norm equal to dist_faces_horiz and dist_faces_vert and direction coinciding with axis 0 and axis 1\n",
    "                dist_faces = np.linalg.norm(dist_faces_horiz*np.array([1,0])+dist_faces_vert*np.array([0,1]))\n",
    "                \n",
    "                #check distance violation\n",
    "                if dist_faces < minDist: \n",
    "                    \n",
    "                    #identify returns name or None if person wasn't identified as one of the employees\n",
    "                    name1 = identify(faceEnc[i])\n",
    "                    name2 = identify(faceEnc[j])\n",
    "\n",
    "                    if name1 != None:\n",
    "                        #add name to list of people who are violating distance restrictions\n",
    "                        namesViol.add(name1)\n",
    "                    else:\n",
    "                        #add 1 to count of unidentified people who are violating distance restrictions\n",
    "                        unidentifiedNum+=1\n",
    "                    \n",
    "                    if name2 != None:\n",
    "                        namesViol.add(name2)\n",
    "                    else:\n",
    "                        unidentifiedNum+=1\n",
    "                        \n",
    "                    #draw rectangles displaying a warning on screen\n",
    "                    cv2.rectangle(img, (r1, t1), (l1, b1), (0,0,255), 2)     \n",
    "                    cv2.rectangle(img, (r2, t2), (l2, b2), (0,0,255), 2)           \n",
    "                    cv2.putText(img, f\"{name1} violating distance\", (l1+5, b1+30), cv2.FONT_HERSHEY_COMPLEX, 1, (0,0,255), 2)\n",
    "                    cv2.putText(img, f\"{name2} violating distance\", (l2+5, b2+30), cv2.FONT_HERSHEY_COMPLEX, 1, (0,0,255), 2)\n",
    "\n",
    "                    cv2.imshow(\"Webcam image\", img)\n",
    "                    \n",
    "                    \n",
    "        # add offset to a datetime object\n",
    "        def datetimeObject_plus_offset(myDatetime, hours, minutes, seconds):\n",
    "            return myDatetime + timedelta (hours=hours, minutes=minutes, seconds=seconds)\n",
    "\n",
    "\n",
    "        #check if email must be sent or was recently sent\n",
    "        now = datetime.now()\n",
    "        #send email if n seconds passed from last send\n",
    "        dateTimeLastSent_plusOffset = datetimeObject_plus_offset(dateTimeLastSent, hours=0, minutes=0, seconds=15) \n",
    "    \n",
    "        if namesViol != namesViolPrev or unidentifiedNum > unidentifiedNumPrev or now > dateTimeLastSent_plusOffset:\n",
    "            #new people violated restriction or more time than offset passed -> send email\n",
    "            #now > dateTimeLastSent_plusOffset even if same hours, minutes seconds but on a subsequent da\n",
    "            viol = True\n",
    "\n",
    "    namesViolPrev = namesViol\n",
    "    unidentifiedNumPrev = unidentifiedNum \n",
    "\n",
    "    return viol, namesViolPrev, unidentifiedNumPrev\n",
    "\n",
    "\n",
    "# the result of this function will be used in openWebcam\n"
   ]
  },
  {
   "cell_type": "markdown",
   "metadata": {
    "id": "XkVD_1D6DVAp"
   },
   "source": [
    "### <a id=\"preprocess\" ></a> Preprocess large amount of images in a folder\n"
   ]
  },
  {
   "cell_type": "code",
   "execution_count": 25,
   "metadata": {
    "colab": {
     "base_uri": "https://localhost:8080/",
     "height": 245
    },
    "executionInfo": {
     "elapsed": 8,
     "status": "error",
     "timestamp": 1653930068913,
     "user": {
      "displayName": "giorgia barboni",
      "userId": "17642290964512417364"
     },
     "user_tz": -120
    },
    "id": "uDueI4AnDVAp",
    "outputId": "0f0cfcbc-596b-4344-fc7f-326a0325d507"
   },
   "outputs": [
    {
     "name": "stdout",
     "output_type": "stream",
     "text": [
      "(97, 30000) (97, 30000)\n",
      "CPU times: total: 31.2 ms\n",
      "Wall time: 31.3 ms\n"
     ]
    }
   ],
   "source": [
    "\n",
    "files_folder = r\".\\AI LAB Workplace Monitoring\\Face Mask Dataset\\Clear Datasets\\test\"\n",
    "\n",
    "#files_folder = r\".\\AI LAB Workplace Monitoring\\Face Mask Dataset\\Blur Dataset\\Train\"\n",
    "\n",
    "files_folder2 = r\".\\AI LAB Workplace Monitoring\\Face Mask Dataset\\Blur Dataset\\Validation\"\n",
    "\n",
    "# Read the images as array elements\n",
    "def readFolderData(files_folder=files_folder):\n",
    "    with_mask    = join(files_folder, \"WithMask\")\n",
    "    without_mask = join(files_folder, \"WithoutMask\")\n",
    "    \n",
    "    data_with_mask    = [cv2.imread( join(with_mask, img) ) for img in listdir( with_mask) if not img.endswith(\".ini\")]\n",
    "    data_without_mask = [cv2.imread( join(without_mask, img) ) for img in listdir( without_mask) if not img.endswith(\".ini\")]\n",
    "    return data_with_mask, data_without_mask\n",
    "\n",
    "def preprocessEntireImageFolders(data_with_mask, data_without_mask, scale=scale):\n",
    "    \n",
    "    # Resize the images to have the same size\n",
    "    data_with_mask      = np.array( [cv2.resize(img, scale) for img in data_with_mask]    )\n",
    "    data_without_mask   = np.array( [cv2.resize(img, scale) for img in data_without_mask] )\n",
    "    #print(data_with_mask.shape, data_without_mask.shape, \"----\")\n",
    "\n",
    "\n",
    "    # Change each image to gray \n",
    "    # data_with_mask    = np.array([ cv2.cvtColor(img, cv2.COLOR_BGR2GRAY) for img in data_with_mask ])\n",
    "    # data_without_mask = np.array([ cv2.cvtColor(img, cv2.COLOR_BGR2GRAY) for img in data_without_mask ])\n",
    "\n",
    "    # Reshape to have each image as a 1D array\n",
    "    data_with_mask     = np.array([np.reshape(img, [-1]) for img in data_with_mask])\n",
    "    data_without_mask  = np.array([np.reshape(img, [-1]) for img in data_without_mask])\n",
    "    print(data_with_mask.shape, data_without_mask.shape)\n",
    "    \n",
    "    stacked_data = np.r_[ data_without_mask, data_with_mask]\n",
    "\n",
    "    labels = np.zeros(len(stacked_data), dtype=\"uint8\")\n",
    "    labels[len(data_without_mask):] = 1\n",
    "    #print(stacked_data.shape)\n",
    "    \n",
    "    return stacked_data, labels\n",
    "\n",
    "mask, no_mask = readFolderData()\n",
    "%time stacked_data, labels = preprocessEntireImageFolders( mask, no_mask )"
   ]
  },
  {
   "cell_type": "markdown",
   "metadata": {
    "id": "wHuB-D52DVAq"
   },
   "source": [
    "### <a id=\"split\" ></a> Split the data into train and test\n"
   ]
  },
  {
   "cell_type": "code",
   "execution_count": 26,
   "metadata": {
    "id": "m3zzFQtNDVAq",
    "outputId": "0ea0e57f-c389-4925-984e-35b4bd2b7d3c"
   },
   "outputs": [
    {
     "name": "stdout",
     "output_type": "stream",
     "text": [
      "(145, 30000) (49, 30000) (145,) (49,)\n"
     ]
    }
   ],
   "source": [
    "\n",
    "Xtrain, Xtest, ytrain, ytest = train_test_split(stacked_data, labels, shuffle=True, random_state=0, stratify=labels )\n",
    "print( Xtrain.shape, Xtest.shape, ytrain.shape, ytest.shape)\n"
   ]
  },
  {
   "cell_type": "markdown",
   "metadata": {
    "id": "QnUEuicsDVAq"
   },
   "source": [
    "### <a id=\"cms\" ></a> Calculate and Plot the confusion matrix, accuracy score, classification report\n"
   ]
  },
  {
   "cell_type": "code",
   "execution_count": 27,
   "metadata": {
    "id": "o4m9Q_XKDVAq"
   },
   "outputs": [],
   "source": [
    "names = [\"No Mask\", \"Mask\"]\n",
    "\n",
    "def confusion_matrix_score(model, names=names, Xtest=Xtest, ytest=ytest):\n",
    "    model.fit(Xtrain, ytrain)\n",
    "    ypred = model.predict(Xtest)\n",
    "    \n",
    "    print( f\"\\nAccuracy_score: {accuracy_score(ytest, ypred)}\", end= \"\\n\" )\n",
    "    #print( f\"\\nmodel.score function: {model.score(Xtest, ytest)}\", end= \"\\n\\n\" )\n",
    "    \n",
    "    mat = confusion_matrix(ytest, ypred)\n",
    "    #print(f\"confusion_matrix: \\n{mat}\", end= \"\\n\\n\")\n",
    "\n",
    "    sns.heatmap(mat, square=True, annot=True, fmt='d', cbar=False,\n",
    "                xticklabels=names,\n",
    "                yticklabels=names)\n",
    "\n",
    "    plt.xlabel('true label')\n",
    "    plt.ylabel('predicted label');\n",
    "    plt.title('Classification Report')\n",
    "\n",
    "    # classification_report\n",
    "    print(f\"classification_report: \\n{ classification_report(ytest, ypred, target_names=names) }\", end=\"\\n\\n\")\n",
    "    "
   ]
  },
  {
   "cell_type": "markdown",
   "metadata": {},
   "source": [
    "##### This below cell was commented out because it take so much time to train"
   ]
  },
  {
   "cell_type": "code",
   "execution_count": null,
   "metadata": {
    "id": "hcDzyc98DVAr"
   },
   "outputs": [],
   "source": [
    "# Use PCA for dimensionality reduction, that is to remove less important features, and SVC for the classification. \n",
    "# We combine both in a pipeline manner. \n",
    "\n",
    "# pca = PCA(n_components=0.8, svd_solver=\"full\")\n",
    "# svc_model = SVC(kernel='rbf', class_weight='balanced') \n",
    "\n",
    "# model_pipeline = make_pipeline(pca, svc_model)\n",
    "\n",
    "# param_grid = {'svc__C': [5, 10],\n",
    "#               'svc__gamma': [0.0001, 0.0005, 0.001, 0.005]}\n",
    "# grid = GridSearchCV(model_pipeline, param_grid)\n",
    "\n",
    "# Fit the model and choose the model with the best parameters\n",
    "# %time grid.fit(Xtrain, ytrain)\n",
    "# print(grid.best_params_, grid.best_estimator_)\n",
    "# model = grid.best_estimator_\n",
    "\n",
    "# from sklearn.model_selection import  cross_val_score\n",
    "# print( cross_val_score(model, Xtrain, ytrain, cv=10) )\n"
   ]
  },
  {
   "cell_type": "markdown",
   "metadata": {
    "id": "xhRRLG7UDVAr"
   },
   "source": [
    "### <a id=\"sv\" ></a> Build Support Vector Classifier\n"
   ]
  },
  {
   "cell_type": "code",
   "execution_count": 28,
   "metadata": {
    "id": "pYb6RrRKDVAr",
    "outputId": "fe91c78b-33e8-4674-95cb-9f39c549a53d"
   },
   "outputs": [
    {
     "name": "stdout",
     "output_type": "stream",
     "text": [
      "\n",
      "Accuracy_score: 0.7959183673469388\n",
      "classification_report: \n",
      "              precision    recall  f1-score   support\n",
      "\n",
      "     No Mask       0.78      0.84      0.81        25\n",
      "        Mask       0.82      0.75      0.78        24\n",
      "\n",
      "    accuracy                           0.80        49\n",
      "   macro avg       0.80      0.79      0.80        49\n",
      "weighted avg       0.80      0.80      0.80        49\n",
      "\n",
      "\n",
      "CPU times: total: 2.08 s\n",
      "Wall time: 610 ms\n"
     ]
    },
    {
     "data": {
      "image/png": "[encoded data removed]",
      "text/plain": [
       "<Figure size 432x288 with 1 Axes>"
      ]
     },
     "metadata": {
      "needs_background": "light"
     },
     "output_type": "display_data"
    }
   ],
   "source": [
    "# Fit the model using SVC\n",
    "\n",
    "sv_model = SVC(kernel='rbf', class_weight='balanced') # 'rbf' radial basis function\n",
    "\n",
    "%time confusion_matrix_score(sv_model)\n"
   ]
  },
  {
   "cell_type": "markdown",
   "metadata": {
    "id": "89jsk8CnDVAr"
   },
   "source": [
    "### <a id=\"dt\" ></a> Build Decision Tree Classifier\n"
   ]
  },
  {
   "cell_type": "code",
   "execution_count": 29,
   "metadata": {
    "id": "5SNzye4bDVAr",
    "outputId": "973f52d2-1fa5-4e69-a867-7f17f416f1de"
   },
   "outputs": [
    {
     "name": "stdout",
     "output_type": "stream",
     "text": [
      "\n",
      "Accuracy_score: 0.9183673469387755\n",
      "classification_report: \n",
      "              precision    recall  f1-score   support\n",
      "\n",
      "     No Mask       0.86      1.00      0.93        25\n",
      "        Mask       1.00      0.83      0.91        24\n",
      "\n",
      "    accuracy                           0.92        49\n",
      "   macro avg       0.93      0.92      0.92        49\n",
      "weighted avg       0.93      0.92      0.92        49\n",
      "\n",
      "\n",
      "CPU times: total: 828 ms\n",
      "Wall time: 825 ms\n"
     ]
    },
    {
     "data": {
      "image/png": "[encoded data removed]",
      "text/plain": [
       "<Figure size 432x288 with 1 Axes>"
      ]
     },
     "metadata": {
      "needs_background": "light"
     },
     "output_type": "display_data"
    }
   ],
   "source": [
    "dt_model = tree.DecisionTreeClassifier()\n",
    "\n",
    "%time confusion_matrix_score(model=dt_model)\n"
   ]
  },
  {
   "cell_type": "markdown",
   "metadata": {
    "id": "0geXaC3PDVAs"
   },
   "source": [
    "### <a id=\"rf\" ></a> Build Random Forest Classifier\n"
   ]
  },
  {
   "cell_type": "code",
   "execution_count": 30,
   "metadata": {
    "id": "nKHLDYSyDVAs",
    "outputId": "fb14254a-0fb9-49b3-8281-03805b4ad4b8"
   },
   "outputs": [
    {
     "name": "stdout",
     "output_type": "stream",
     "text": [
      "\n",
      "Accuracy_score: 0.9387755102040817\n",
      "classification_report: \n",
      "              precision    recall  f1-score   support\n",
      "\n",
      "     No Mask       0.89      1.00      0.94        25\n",
      "        Mask       1.00      0.88      0.93        24\n",
      "\n",
      "    accuracy                           0.94        49\n",
      "   macro avg       0.95      0.94      0.94        49\n",
      "weighted avg       0.95      0.94      0.94        49\n",
      "\n",
      "\n",
      "CPU times: total: 406 ms\n",
      "Wall time: 408 ms\n"
     ]
    },
    {
     "data": {
      "image/png": "[encoded data removed]",
      "text/plain": [
       "<Figure size 432x288 with 1 Axes>"
      ]
     },
     "metadata": {
      "needs_background": "light"
     },
     "output_type": "display_data"
    }
   ],
   "source": [
    "from sklearn import ensemble\n",
    "\n",
    "rf_model = ensemble.RandomForestClassifier()\n",
    "\n",
    "%time confusion_matrix_score(model=rf_model)\n"
   ]
  },
  {
   "cell_type": "markdown",
   "metadata": {
    "id": "whjoEVLaDVAs"
   },
   "source": [
    "### <a id=\"nb\" ></a> Build Naive Bayes Classifier\n"
   ]
  },
  {
   "cell_type": "code",
   "execution_count": 31,
   "metadata": {
    "id": "HgGeiqaBDVAs",
    "outputId": "6629535b-de61-473e-b1d8-2a09c512d946"
   },
   "outputs": [
    {
     "name": "stdout",
     "output_type": "stream",
     "text": [
      "\n",
      "Accuracy_score: 0.7959183673469388\n",
      "classification_report: \n",
      "              precision    recall  f1-score   support\n",
      "\n",
      "     No Mask       0.80      0.80      0.80        25\n",
      "        Mask       0.79      0.79      0.79        24\n",
      "\n",
      "    accuracy                           0.80        49\n",
      "   macro avg       0.80      0.80      0.80        49\n",
      "weighted avg       0.80      0.80      0.80        49\n",
      "\n",
      "\n"
     ]
    },
    {
     "data": {
      "image/png": "[encoded data removed]",
      "text/plain": [
       "<Figure size 432x288 with 1 Axes>"
      ]
     },
     "metadata": {
      "needs_background": "light"
     },
     "output_type": "display_data"
    }
   ],
   "source": [
    "from sklearn.naive_bayes import GaussianNB\n",
    "\n",
    "nb_model = GaussianNB()\n",
    "\n",
    "confusion_matrix_score(model=nb_model)"
   ]
  },
  {
   "cell_type": "markdown",
   "metadata": {
    "id": "TEOasJ3vDVAt"
   },
   "source": [
    "### <a id=\"lr\" ></a> Logistic regression Classifier\n",
    "\n"
   ]
  },
  {
   "cell_type": "code",
   "execution_count": 32,
   "metadata": {
    "id": "5_W1TjAlDVAt",
    "outputId": "a9270fe1-7e23-40a1-f5b7-4cfbcbb9a564"
   },
   "outputs": [
    {
     "name": "stdout",
     "output_type": "stream",
     "text": [
      "CPU times: total: 0 ns\n",
      "Wall time: 0 ns\n",
      "\n",
      "Accuracy_score: 0.8571428571428571\n",
      "classification_report: \n",
      "              precision    recall  f1-score   support\n",
      "\n",
      "     No Mask       0.82      0.92      0.87        25\n",
      "        Mask       0.90      0.79      0.84        24\n",
      "\n",
      "    accuracy                           0.86        49\n",
      "   macro avg       0.86      0.86      0.86        49\n",
      "weighted avg       0.86      0.86      0.86        49\n",
      "\n",
      "\n"
     ]
    },
    {
     "data": {
      "image/png": "[encoded data removed]",
      "text/plain": [
       "<Figure size 432x288 with 1 Axes>"
      ]
     },
     "metadata": {
      "needs_background": "light"
     },
     "output_type": "display_data"
    }
   ],
   "source": [
    "from sklearn.linear_model import LogisticRegression\n",
    "\n",
    "%time lr_model = LogisticRegression()\n",
    "\n",
    "confusion_matrix_score(lr_model)"
   ]
  },
  {
   "cell_type": "markdown",
   "metadata": {
    "id": "rmHuu41WDVAt"
   },
   "source": [
    "### <a id=\"knn\" ></a> K-Nearest Neighbors\n",
    "\n"
   ]
  },
  {
   "cell_type": "code",
   "execution_count": 33,
   "metadata": {
    "id": "EiVck-pXDVAt",
    "outputId": "8e6901b1-b6e6-46a8-e578-c339c87c2114"
   },
   "outputs": [
    {
     "name": "stdout",
     "output_type": "stream",
     "text": [
      "CPU times: total: 0 ns\n",
      "Wall time: 0 ns\n",
      "\n",
      "Accuracy_score: 0.6938775510204082\n",
      "classification_report: \n",
      "              precision    recall  f1-score   support\n",
      "\n",
      "     No Mask       0.68      0.76      0.72        25\n",
      "        Mask       0.71      0.62      0.67        24\n",
      "\n",
      "    accuracy                           0.69        49\n",
      "   macro avg       0.70      0.69      0.69        49\n",
      "weighted avg       0.70      0.69      0.69        49\n",
      "\n",
      "\n"
     ]
    },
    {
     "data": {
      "image/png": "[encoded data removed]",
      "text/plain": [
       "<Figure size 432x288 with 1 Axes>"
      ]
     },
     "metadata": {
      "needs_background": "light"
     },
     "output_type": "display_data"
    }
   ],
   "source": [
    "from sklearn.neighbors import KNeighborsClassifier\n",
    "\n",
    "%time knn_model = KNeighborsClassifier() # n_neighbors=5 by default\n",
    "\n",
    "confusion_matrix_score(knn_model)\n"
   ]
  },
  {
   "cell_type": "markdown",
   "metadata": {
    "id": "Be1Z7sSZDVAt"
   },
   "source": [
    "### Load another dataset"
   ]
  },
  {
   "cell_type": "code",
   "execution_count": 34,
   "metadata": {
    "id": "wdd3BOFRDVAt",
    "outputId": "3b499b8b-bfb6-4ee2-936e-152d80b1e7d9"
   },
   "outputs": [
    {
     "name": "stdout",
     "output_type": "stream",
     "text": [
      "(71, 30000) (71, 30000)\n",
      "(142,) (142, 30000) (142,)\n"
     ]
    },
    {
     "name": "stderr",
     "output_type": "stream",
     "text": [
      "C:\\Users\\Utente locale\\anaconda3\\lib\\site-packages\\numpy\\core\\fromnumeric.py:3162: VisibleDeprecationWarning: Creating an ndarray from ragged nested sequences (which is a list-or-tuple of lists-or-tuples-or ndarrays with different lengths or shapes) is deprecated. If you meant to do this, you must specify 'dtype=object' when creating the ndarray.\n",
      "  return asarray(a).ndim\n",
      "C:\\Users\\Utente locale\\anaconda3\\lib\\site-packages\\numpy\\lib\\index_tricks.py:394: VisibleDeprecationWarning: Creating an ndarray from ragged nested sequences (which is a list-or-tuple of lists-or-tuples-or ndarrays with different lengths or shapes) is deprecated. If you meant to do this, you must specify 'dtype=object' when creating the ndarray.\n",
      "  newobj = array(item, copy=False, subok=True, ndmin=ndmin)\n"
     ]
    }
   ],
   "source": [
    "# Load another folder to test and see\n",
    "\n",
    "blurred_photos_folder = r\".\\AI LAB Workplace Monitoring\\Face Mask Dataset\\Blur Dataset\\Test\"\n",
    "\n",
    "clear_photos_folder = r\".\\AI LAB Workplace Monitoring\\Face Mask Dataset\\Clear Datasets\\val\"\n",
    "\n",
    "mask_test, no_mask_test = readFolderData(clear_photos_folder) # image form\n",
    "test_data, label_data = preprocessEntireImageFolders(mask_test, no_mask_test) #reshaped form of (1, n)\n",
    "\n",
    "comb = np.r_[no_mask_test, mask_test]\n",
    "print( comb.shape, test_data.shape, label_data.shape )\n"
   ]
  },
  {
   "cell_type": "markdown",
   "metadata": {
    "id": "hneenFiQDVAu"
   },
   "source": [
    "### All models in a list"
   ]
  },
  {
   "cell_type": "code",
   "execution_count": 35,
   "metadata": {
    "id": "25XQlSpBDVAu"
   },
   "outputs": [],
   "source": [
    "models = [sv_model, dt_model, rf_model, nb_model, lr_model, knn_model]"
   ]
  },
  {
   "cell_type": "markdown",
   "metadata": {
    "id": "jMMCal7_DVAu"
   },
   "source": [
    "### <a id=\"loadfromdisk\"></a> Load from disk. Here I use face-recognition module\n"
   ]
  },
  {
   "cell_type": "code",
   "execution_count": 49,
   "metadata": {
    "id": "ymLsXsEkDVAu"
   },
   "outputs": [
    {
     "name": "stdout",
     "output_type": "stream",
     "text": [
      "\n",
      "Email sent successfuly Date: 2022-06-20 Time: 10:37:10\n",
      "\n",
      "\n",
      "Email sent successfuly Date: 2022-06-20 Time: 10:37:10\n",
      "\n",
      "\n",
      "Email sent successfuly Date: 2022-06-20 Time: 10:37:10\n",
      "\n",
      "\n",
      "Email sent successfuly Date: 2022-06-20 Time: 10:37:10\n",
      "\n",
      "\n",
      "Email sent successfuly Date: 2022-06-20 Time: 10:37:10\n",
      "\n"
     ]
    }
   ],
   "source": [
    "\n",
    "def loadFromDisk(model, retry_if_not_sent=False):\n",
    "    try:\n",
    "        for i in range(len(comb)):# -1,-1,-1): #I wanna first start with mask, so I reverse\n",
    "            \n",
    "            frame = comb[i]\n",
    "            frame = cv2.resize(frame, (900,700))\n",
    "            face_locations = face_recognition.face_locations(frame)\n",
    "\n",
    "            pred = model.predict( np.reshape( test_data[i], (1,-1)) )[0]\n",
    "            if pred == 0:\n",
    "                subject = \"Worker not wearing a mask; Date {}, Time: {}\"\n",
    "                contents = \"There is high probability that a worker is not wearing a mask. Take action!\"\n",
    "                name = \"No Mask\"\n",
    "                color = (0,0,255)    \n",
    "            else:\n",
    "                name = \"Mask\"\n",
    "                color = (255,0,0)\n",
    "            \n",
    "            for top, right, bottom, left in face_locations:                        \n",
    "                cv2.rectangle(frame, (left, top), (right, bottom), color, 5)\n",
    "                cv2.putText(frame, f\"{name} & pred = {pred}\", (left+10, bottom+30), cv2.FONT_HERSHEY_COMPLEX, 1, color, 2)\n",
    "\n",
    "            if not face_locations:\n",
    "                text = f\"{name} & pred={pred}\\nbut face not detected by face detector\"\n",
    "                left, top = 50, 50\n",
    "                for i, line in enumerate(text.split('\\n')):\n",
    "                    y = (i+1)*top\n",
    "                    cv2.putText(frame, line, (left,y), cv2.FONT_HERSHEY_SIMPLEX, 1, color, 2)\n",
    "                    \n",
    "            #-------------------------------------------------------------------------\n",
    "            #If covid19 distance rule is not respected, then send an alert\n",
    "            violate = checkDistance(face_locations) if len(face_locations) >= 2 else False\n",
    "            if violate:\n",
    "                subject = \"Violating covid19 distance rules; Date {}, Time: {}\"\n",
    "                contents = \"mr. {} seems to be violating covid19 distance rules\"\n",
    "            \n",
    "            #Send an alert if a worker is not wearing a mask or is violating covid19 distance rules\n",
    "            if violate or not pred:\n",
    "                date, time = date_and_time()\n",
    "                sent = sendEmailWithAttachment(frame, \n",
    "                                            subject=subject.format(date, time),\n",
    "                                            sender_password=sender_password,\n",
    "                                            contents=contents)\n",
    "                \n",
    "                # Retry to send the the alert if it failed\n",
    "                if retry_if_not_sent and not sent: resendIt(frame, sent)\n",
    "            #------------------------------------------------------------------------------\n",
    "            \n",
    "            cv2.imshow(\"frame\", frame)            \n",
    "            if cv2.waitKey(1000) != -1: break\n",
    "            \n",
    "    finally:\n",
    "        cv2.destroyAllWindows()   \n",
    "    \n",
    "def resendIt(frame, sent):\n",
    "    if sent:\n",
    "        return \n",
    "    else:\n",
    "        sender_password = input(\"Retry the Password\")\n",
    "        sent = sendEmailWithAttachment(frame, sender_password = sender_password)\n",
    "        return resendIt(frame, sent)\n",
    "        \n",
    "loadFromDisk(rf_model)"
   ]
  },
  {
   "cell_type": "markdown",
   "metadata": {},
   "source": [
    "### <a id=\"webcam\"></a> Webcam Mask Detection\n"
   ]
  },
  {
   "cell_type": "code",
   "execution_count": 50,
   "metadata": {},
   "outputs": [
    {
     "name": "stdout",
     "output_type": "stream",
     "text": [
      "\n",
      "Email sent successfuly Date: 2022-06-20 Time: 10:37:10\n",
      "\n",
      "\n",
      "Email sent successfuly Date: 2022-06-20 Time: 10:37:10\n",
      "\n",
      "\n",
      "Email sent successfuly Date: 2022-06-20 Time: 10:37:10\n",
      "\n",
      "\n",
      "Email sent successfuly Date: 2022-06-20 Time: 10:37:10\n",
      "\n",
      "\n",
      "Email sent successfuly Date: 2022-06-20 Time: 10:37:10\n",
      "\n",
      "\n",
      "Email sent successfuly Date: 2022-06-20 Time: 10:37:10\n",
      "\n",
      "\n",
      "Email sent successfuly Date: 2022-06-20 Time: 10:37:10\n",
      "\n",
      "\n",
      "Email sent successfuly Date: 2022-06-20 Time: 10:37:10\n",
      "\n",
      "\n",
      "Email sent successfuly Date: 2022-06-20 Time: 10:37:10\n",
      "\n"
     ]
    }
   ],
   "source": [
    "\n",
    "def openWebcam(model, retry_if_not_sent=False):\n",
    "    #initialization for social distancing check\n",
    "    unidentifiedNumPrev = 0\n",
    "    namesViolPrev = set()\n",
    "    dateTimeLastSent = datetime.now()\n",
    "    \n",
    "    cap = cv2.VideoCapture(0)\n",
    "    try:\n",
    "        while cap.isOpened():\n",
    "            \n",
    "            _, frame = cap.read()\n",
    "            img = cv2.resize(frame, scale)\n",
    "            pred = model.predict( np.reshape( img, (1,-1)) )[0]\n",
    "            if pred == 0:\n",
    "                subject = \"Worker not wearing a mask; Date {}, Time: {}\"\n",
    "                contents = \"{}There is high probability that a worker is not wearing a mask. Take action!\"\n",
    "                name = \"No Mask\"\n",
    "                color = (0,0,255)       \n",
    "            else:\n",
    "                name = \"Mask\"\n",
    "                color = (255,0,0)\n",
    "                \n",
    "            face_locations = face_recognition.face_locations(frame)\n",
    "            #------------------------------------------------------------------\n",
    "            #If covid19 distance rule is not respected, then send an alert\n",
    "            \n",
    "            violate, namesViolPrev, unidentifiedNumPrev = checkDistance(frame, face_locations, namesViolPrev, unidentifiedNumPrev, dateTimeLastSent)\n",
    "            \n",
    "            if violate:\n",
    "                subject = \"Violating covid19 distance rules; Date {}, Time: {}\"\n",
    "                contents = \"mr. {} seems to be violating covid19 distance rules\"\n",
    "                \n",
    "                if pred == 0:\n",
    "                    subject = \"Worker not wearing a mask and Violating covid19 distance rule; Date {}, Time: {}\"\n",
    "                    contents = \"{} violating covid19 distance rules and not wearing mask\"\n",
    "            \n",
    "            #Send an alert if worker is not wearing a mask or is violating covid19 distance rules\n",
    "            if violate or not pred:\n",
    "                date, time = date_and_time()\n",
    "                sent = sendEmailWithAttachment(frame, \n",
    "                                            subject=subject.format(date, time),\n",
    "                                            receiver_mail_addr = [\"youremail@gmail.com\"],\n",
    "                                            sender_password=sender_password,\n",
    "                                            contents=contents.format(namesViolPrev))\n",
    "                \n",
    "                # Retry to send the the alert if it failed\n",
    "                if retry_if_not_sent and not sent: resendIt(frame, sent)\n",
    "                \n",
    "                dateTimeLastSent = datetime.now()\n",
    "            #------------------------------------------------------------------------------\n",
    "            \n",
    "            for top, right, bottom, left in face_locations:                        \n",
    "                cv2.rectangle(frame, (left, top), (right, bottom), color, 5)\n",
    "                cv2.putText(frame, f\"{name} & pred = {pred}\", (left+10, bottom+30), cv2.FONT_HERSHEY_COMPLEX, 1, color, 2)\n",
    "\n",
    "            if not face_locations:\n",
    "                text = f\"{name} & pred={pred}\\nbut face not detected by face detector\"\n",
    "                left, top = 50, 50\n",
    "                for i, line in enumerate(text.split('\\n')):\n",
    "                    y = (i+1)*top\n",
    "                    cv2.putText(frame, line, (left,y), cv2.FONT_HERSHEY_SIMPLEX, 1, color, 2)\n",
    "            \n",
    "            cv2.imshow(\"frame\", frame)\n",
    "            if cv2.waitKey(1) != -1: break\n",
    "\n",
    "    finally:\n",
    "        cap.release() \n",
    "        cv2.destroyAllWindows()   \n",
    "\n",
    "openWebcam(sv_model)"
   ]
  }
 ],
 "metadata": {
  "colab": {
   "name": "Face_Mask_Detection.ipynb",
   "provenance": []
  },
  "interpreter": {
   "hash": "8b1c34a4705f1ad3e989dda6439809041f8cc2de32377149232f1be5f4f19a59"
  },
  "kernelspec": {
   "display_name": "Python 3 (ipykernel)",
   "language": "python",
   "name": "python3"
  },
  "language_info": {
   "codemirror_mode": {
    "name": "ipython",
    "version": 3
   },
   "file_extension": ".py",
   "mimetype": "text/x-python",
   "name": "python",
   "nbconvert_exporter": "python",
   "pygments_lexer": "ipython3",
   "version": "3.8.11"
  }
 },
 "nbformat": 4,
 "nbformat_minor": 1
}
